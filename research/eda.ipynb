{
 "cells": [
  {
   "cell_type": "code",
   "execution_count": 1,
   "id": "d4329eab",
   "metadata": {},
   "outputs": [],
   "source": [
    "import pandas as pd "
   ]
  },
  {
   "cell_type": "code",
   "execution_count": 2,
   "id": "e4b016c5",
   "metadata": {},
   "outputs": [],
   "source": [
    "d=pd.read_csv(r'D:\\dataanalysis\\swaraj_project_practice\\fake_news\\news.csv')"
   ]
  },
  {
   "cell_type": "code",
   "execution_count": 4,
   "id": "cd90f3b6",
   "metadata": {},
   "outputs": [
    {
     "data": {
      "text/html": [
       "<div>\n",
       "<style scoped>\n",
       "    .dataframe tbody tr th:only-of-type {\n",
       "        vertical-align: middle;\n",
       "    }\n",
       "\n",
       "    .dataframe tbody tr th {\n",
       "        vertical-align: top;\n",
       "    }\n",
       "\n",
       "    .dataframe thead th {\n",
       "        text-align: right;\n",
       "    }\n",
       "</style>\n",
       "<table border=\"1\" class=\"dataframe\">\n",
       "  <thead>\n",
       "    <tr style=\"text-align: right;\">\n",
       "      <th></th>\n",
       "      <th>label</th>\n",
       "      <th>text</th>\n",
       "    </tr>\n",
       "  </thead>\n",
       "  <tbody>\n",
       "    <tr>\n",
       "      <th>0</th>\n",
       "      <td>real</td>\n",
       "      <td>['foreign', 'democrat', 'final', 'tax', 'devel...</td>\n",
       "    </tr>\n",
       "    <tr>\n",
       "      <th>1</th>\n",
       "      <td>fake</td>\n",
       "      <td>['offer', 'resourc', 'great', 'point', 'probab...</td>\n",
       "    </tr>\n",
       "    <tr>\n",
       "      <th>2</th>\n",
       "      <td>fake</td>\n",
       "      <td>['church', 'carri', 'identifi', 'forward', 'pr...</td>\n",
       "    </tr>\n",
       "  </tbody>\n",
       "</table>\n",
       "</div>"
      ],
      "text/plain": [
       "  label                                               text\n",
       "0  real  ['foreign', 'democrat', 'final', 'tax', 'devel...\n",
       "1  fake  ['offer', 'resourc', 'great', 'point', 'probab...\n",
       "2  fake  ['church', 'carri', 'identifi', 'forward', 'pr..."
      ]
     },
     "execution_count": 4,
     "metadata": {},
     "output_type": "execute_result"
    }
   ],
   "source": [
    "d.head(3)"
   ]
  },
  {
   "cell_type": "code",
   "execution_count": 9,
   "id": "86f81749",
   "metadata": {},
   "outputs": [
    {
     "data": {
      "text/plain": [
       "\"['church', 'carri', 'identifi', 'forward', 'present', 'success', 'risk', 'sever', 'front', 'pull', 'blood', 'choos', 'born', 'prove', 'clear', 'approach', 'languag', 'elect', 'futur', 'plant', 'thing', 'side', 'soon', 'guy', 'vote', 'practic', 'dream', 'find', 'despit', 'less', 'artist', 'minut', 'although', 'teacher', 'social', 'eye', 'top', 'less', 'make', 'back', 'care', 'thu', 'much', 'small', 'act', 'outsid', 'colleg', 'travel', 'continu', 'night', 'name', 'militari', 'room', 'instead', 'mani', 'month', 'follow', 'long', 'presid', 'commun', 'peopl', 'like', 'attent', 'fall', 'crime', 'histori', 'despit', 'fill', 'recent', 'need', 'commerci', 'invest', 'address', 'send', 'religi', 'join', 'opportun', 'stori', 'idea', 'exactli', 'back', 'differ', 'loss', 'degre', 'whose', 'throughout', 'lead', 'respons', 'almost', 'toward', 'card', 'nation', 'structur', 'state', 'arm', 'low', 'threat', 'properti', 'eat', 'bill', 'public', 'trip', 'bed', 'note', 'hair', 'teach', 'defens', 'citizen', 'rather', 'believ', 'say', 'level', 'wall', 'short', 'religi', 'theori', 'hair', 'respond', 'town', 'return', 'discuss', 'invest', 'never', 'success', 'entir', 'admit', 'develop', 'south', 'abil', 'televis', 'yard', 'daughter', 'fire', 'modern', 'send', 'suggest', 'skin', 'could', 'outsid', 'work', 'offic', 'protect', 'determin', 'teach', 'structur', 'door', 'fund', 'readi', 'gun', 'role', 'everyon', 'often', 'father', 'establish', 'major', 'point', 'set', 'choic', 'meet', 'think', 'treatment', 'anim', 'audienc', 'guess', 'hear', 'student', 'certain', 'insid', 'assum', 'check', 'approach', 'senior', 'bodi', 'condit', 'trial', 'occur', 'foot', 'explain', 'polic', 'certain', 'kid', 'special', 'share', 'deal', 'write', 'southern', 'natur', 'exactli', 'respond', 'kid', 'help', 'caus', 'manag', 'tv', 'ago', 'word', 'care', 'realiti', 'daughter', 'find', 'answer', 'affect', 'cnn', 'julia', 'robinson', 'busi']\""
      ]
     },
     "execution_count": 9,
     "metadata": {},
     "output_type": "execute_result"
    }
   ],
   "source": [
    "d['text'][2]"
   ]
  },
  {
   "cell_type": "code",
   "execution_count": null,
   "id": "33bd1c0f",
   "metadata": {},
   "outputs": [],
   "source": []
  },
  {
   "cell_type": "code",
   "execution_count": null,
   "id": "fa59a5f5",
   "metadata": {},
   "outputs": [],
   "source": []
  },
  {
   "cell_type": "code",
   "execution_count": null,
   "id": "48119bf3",
   "metadata": {},
   "outputs": [],
   "source": []
  },
  {
   "cell_type": "code",
   "execution_count": null,
   "id": "84c8d056",
   "metadata": {},
   "outputs": [],
   "source": []
  }
 ],
 "metadata": {
  "kernelspec": {
   "display_name": "base",
   "language": "python",
   "name": "python3"
  },
  "language_info": {
   "codemirror_mode": {
    "name": "ipython",
    "version": 3
   },
   "file_extension": ".py",
   "mimetype": "text/x-python",
   "name": "python",
   "nbconvert_exporter": "python",
   "pygments_lexer": "ipython3",
   "version": "3.12.7"
  }
 },
 "nbformat": 4,
 "nbformat_minor": 5
}
